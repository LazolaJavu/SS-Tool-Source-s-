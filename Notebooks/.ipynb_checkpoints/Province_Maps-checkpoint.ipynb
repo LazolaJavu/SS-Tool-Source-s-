{
 "cells": [
  {
   "cell_type": "code",
   "execution_count": 1,
   "id": "43a5bf87",
   "metadata": {
    "ExecuteTime": {
     "end_time": "2023-08-04T08:37:09.697960Z",
     "start_time": "2023-08-04T08:37:07.674606Z"
    }
   },
   "outputs": [],
   "source": [
    "# import geoplot as gplt\n",
    "import geopandas as gpd\n",
    "import pandas as pd\n",
    "from shapely import wkt\n",
    "import pathlib\n",
    "import matplotlib.pyplot as plt\n",
    "# import mapclassify as mc\n",
    "import numpy as np\n",
    "import json\n",
    "import plotly.express as px #if using plotly\n",
    "import pandas as pd\n",
    "import folium\n",
    "import branca.colormap as cm\n",
    "import geopandas as gpd\n",
    "from folium.plugins import Search\n",
    "import plotly\n",
    "import branca\n",
    "import random\n",
    "import requests\n",
    "import warnings; warnings.filterwarnings('ignore')"
   ]
  },
  {
   "cell_type": "code",
   "execution_count": 2,
   "id": "fd9c4dc2",
   "metadata": {
    "ExecuteTime": {
     "end_time": "2023-08-04T08:37:09.744822Z",
     "start_time": "2023-08-04T08:37:09.699961Z"
    },
    "scrolled": false
   },
   "outputs": [
    {
     "data": {
      "text/plain": [
       "Index(['name',   2015,   2016,   2017,   2018,   2019,   2020,   2021,   2022,\n",
       "         2023,   2024,   2025,   2026,   2027,   2028,   2029,   2030],\n",
       "      dtype='object', name='Year')"
      ]
     },
     "execution_count": 2,
     "metadata": {},
     "output_type": "execute_result"
    }
   ],
   "source": [
    "################# READ AND REARRANGED THE PREDICTED PROVINCE DATA #################\n",
    "# Read an csv file which has predicted values\n",
    "predicted_provinces = pd.read_csv(\"C:/Users/LazolaJavu/SmartStart/Rabelani Tshidavhu - Child Modelling update_2022/Child Modelling Project/Model Predictions/Time-Series-Forecasting/Data/processed/Provinces_Prediction_+SS_data.csv\")\n",
    "#We have to define a dictionary that allows us to rename the columns\n",
    "prov_dict = {'EC' : 'Eastern Cape', \n",
    "             'FS': 'Free State', \n",
    "             'GP' : 'Gauteng', \n",
    "             'KZN': 'KwaZulu-Natal', \n",
    "             'LP' : 'Limpopo', \n",
    "             'MP' : 'Mpumalanga', \n",
    "             'NW' : 'North West',\n",
    "             'WC' : 'Western Cape',\n",
    "             'NC' : 'Northern Cape'}\n",
    " \n",
    "#rename columns in DataFrame using dictionary\n",
    "predicted_provinces.rename(columns=prov_dict, inplace=True)\n",
    "# Drop the columns that \n",
    "predicted_provinces = predicted_provinces.drop(labels = ['Unnamed: 0'], axis =1)\n",
    "# Convert the 'dates' column to a pandas datetime object\n",
    "predicted_provinces['ds'] = pd.to_datetime(predicted_provinces['ds'])\n",
    "# Filter only the dates that occur in June\n",
    "predicted_provinces = predicted_provinces[predicted_provinces['ds'].dt.month == 6]\n",
    "# Group by year and select the last value for each year\n",
    "predicted_provinces = predicted_provinces.groupby(predicted_provinces['ds'].dt.year).tail(1)\n",
    "# Extract only the year from the 'dates' column and create a new column 'year_only'\n",
    "predicted_provinces['Year'] = predicted_provinces['ds'].dt.year\n",
    "# Transpose the dataframe\n",
    "predicted_provinces = predicted_provinces.transpose()\n",
    "# Set the last row as the new column headers\n",
    "new_headers = predicted_provinces.iloc[-1]\n",
    "predicted_provinces = predicted_provinces.iloc[:-1]\n",
    "predicted_provinces.set_axis(new_headers, axis=1, inplace=True)\n",
    "# Reset index from the code\n",
    "predicted_provinces.reset_index(inplace=True)\n",
    "prov_dict = {'index' : 'name'}\n",
    "#rename columns in DataFrame using dictionary\n",
    "predicted_provinces.rename(columns=prov_dict, inplace=True)\n",
    "# Drop the row under the 'Province' column with the value 'ds'\n",
    "predicted_provinces = predicted_provinces[predicted_provinces['name'] != 'ds']\n",
    "predicted_provinces = predicted_provinces.fillna(0)\n",
    "# Rounding columns to 2 decimal places\n",
    "columns_to_round = [2015,   2016,   2017,   2018,   2019,   2020,   2021,   2022,\n",
    "         2023,   2024,   2025,   2026,   2027,   2028,   2029,   2030]\n",
    "decimal_places = 0\n",
    "predicted_provinces[columns_to_round] = predicted_provinces[columns_to_round].round(decimal_places)\n",
    "predicted_provinces.to_csv(\"C:/Users/LazolaJavu/SmartStart/Rabelani Tshidavhu - Child Modelling update_2022/Child Modelling Project/Model Predictions/Time-Series-Forecasting/Data/external/sa_provincial_polygons.csv\")\n",
    "################# READ ALREADY CLEANED PROVINCE DATA WITH PROVINCE POLYGONS #################\n",
    "#set up the file path and read the shapefile data\n",
    "fp = \"C:/Users/LazolaJavu/SmartStart/Rabelani Tshidavhu - Child Modelling update_2022/Child Modelling Project/Model Predictions/Time-Series-Forecasting/Data/external/ne_10m_admin_1_states_provinces/sa_provinces_map.geojson\"\n",
    "map_df = gpd.read_file(fp)\n",
    "predicted_provinces = pd.read_csv(\"C:/Users/LazolaJavu/SmartStart/Rabelani Tshidavhu - Child Modelling update_2022/Child Modelling Project/Model Predictions/Time-Series-Forecasting/Data/external/sa_provincial_polygons.csv\")\n",
    "# data = pd.merge(map_df, predicted_provinces, left_on = 'name', right_on = 'name')\n",
    "# Step 3: Merge the DataFrame with the GeoDataFrame\n",
    "geodf = map_df.merge(predicted_provinces, on='name', how='left')\n",
    "\n",
    "geodf.to_file(\"C:/Users/LazolaJavu/OneDrive - SmartStart/Desktop/sa_map.geojson\", driver=\"GeoJSON\")\n",
    "with open(\"C:/Users/LazolaJavu/OneDrive - SmartStart/Desktop/sa_map.geojson\") as geofile:\n",
    "    j_file = json.load(geofile)\n",
    "i=1\n",
    "for feature in j_file[\"features\"]:\n",
    "    feature ['id'] = str(i).zfill(2)\n",
    "    i += 1\n",
    "# Getting the coordinates to center the map\n",
    "x_map=geodf.centroid.x.mean()\n",
    "y_map=geodf.centroid.y.mean()\n",
    "print(x_map,y_map)\n",
    "# Creating a map centered on coordinates we got before\n",
    "m = folium.Map(location=[y_map, x_map], zoom_start=4, tiles=None)\n",
    "folium.TileLayer('CartoDB positron',name=\"Light Map\",control=False).add_to(m)\n",
    "\n",
    "# Plot States\n",
    "stategeo = folium.GeoJson(geodf,\n",
    "                          name='geometry',\n",
    "                          style_function=lambda x: {'color': 'black', 'weight':1, 'fillOpacity':0},\n",
    "                          ).add_to(m)\n",
    "\n",
    "# Plot Districts\n",
    "distgeo = folium.GeoJson(geodf,\n",
    "                          name='India Districts',\n",
    "                          style_function=lambda x: {'fillColor': colormap(x['properties']['2030']), 'color': 'black',\n",
    "                                                    'weight':0.5, 'fillOpacity':0.5},\n",
    "                          tooltip=folium.GeoJsonTooltip(fields=['woe_label', 'latitude', 'longitude', '2024', '2025', '2026', '2027', '2028', '2029', '2030'], \n",
    "                                            aliases=['woe_label', 'latitude', 'longitude', '2024', '2025', '2026', '2027', '2028', '2029', '2030'], \n",
    "                                            localize=True)\n",
    "                         ).add_to(m)\n",
    "\n",
    "# Add the searchbar for States\n",
    "statesearch = Search(layer=stategeo, \n",
    "                     geom_type='Polygon', \n",
    "                     placeholder=\"Search for a Province\", \n",
    "                     collapsed=False, \n",
    "                     search_label='name',\n",
    "                     weight=2\n",
    "                    ).add_to(m)\n",
    "\n",
    "# Add layer control\n",
    "folium.LayerControl().add_to(m)\n",
    "\n",
    "# Add color bar\n",
    "colormap.add_to(m)\n",
    "\n",
    "# Finally show the map\n",
    "m\n"
   ]
  },
  {
   "cell_type": "code",
   "execution_count": 3,
   "id": "f4403931",
   "metadata": {
    "ExecuteTime": {
     "end_time": "2023-08-04T08:37:09.964276Z",
     "start_time": "2023-08-04T08:37:09.746985Z"
    }
   },
   "outputs": [],
   "source": []
  },
  {
   "cell_type": "code",
   "execution_count": null,
   "id": "f4308677",
   "metadata": {},
   "outputs": [],
   "source": []
  }
 ],
 "metadata": {
  "kernelspec": {
   "display_name": "Python 3 (ipykernel)",
   "language": "python",
   "name": "python3"
  },
  "language_info": {
   "codemirror_mode": {
    "name": "ipython",
    "version": 3
   },
   "file_extension": ".py",
   "mimetype": "text/x-python",
   "name": "python",
   "nbconvert_exporter": "python",
   "pygments_lexer": "ipython3",
   "version": "3.8.16"
  }
 },
 "nbformat": 4,
 "nbformat_minor": 5
}
